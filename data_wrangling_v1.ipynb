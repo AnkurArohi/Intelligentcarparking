{
  "nbformat": 4,
  "nbformat_minor": 0,
  "metadata": {
    "colab": {
      "name": "data_wrangling_v1.ipynb",
      "provenance": [],
      "authorship_tag": "ABX9TyM+CZaD80x8OU314ZODm0DY",
      "include_colab_link": true
    },
    "kernelspec": {
      "name": "python3",
      "display_name": "Python 3"
    }
  },
  "cells": [
    {
      "cell_type": "markdown",
      "metadata": {
        "id": "view-in-github",
        "colab_type": "text"
      },
      "source": [
        "<a href=\"https://colab.research.google.com/github/AnkurArohi/Intelligentcarparking/blob/master/data_wrangling_v1.ipynb\" target=\"_parent\"><img src=\"https://colab.research.google.com/assets/colab-badge.svg\" alt=\"Open In Colab\"/></a>"
      ]
    },
    {
      "cell_type": "markdown",
      "metadata": {
        "id": "ri7Gi-mWJ493",
        "colab_type": "text"
      },
      "source": [
        "# This is would go on to become the most sensible thing to be ever-written in this project"
      ]
    },
    {
      "cell_type": "code",
      "metadata": {
        "id": "OXPIN8TxJyrg",
        "colab_type": "code",
        "colab": {}
      },
      "source": [
        ""
      ],
      "execution_count": 0,
      "outputs": []
    }
  ]
}